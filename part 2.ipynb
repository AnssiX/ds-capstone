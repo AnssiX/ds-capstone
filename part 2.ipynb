{
    "nbformat_minor": 1, 
    "cells": [
        {
            "source": "Part 2 of the lab : adding latitude and longitude for each postal code", 
            "cell_type": "markdown", 
            "metadata": {}
        }, 
        {
            "source": "import pandas as pd\nimport requests\nfrom bs4 import BeautifulSoup\n\nurl = 'https://en.wikipedia.org/wiki/List_of_postal_codes_of_Canada:_M'\nr = requests.get(url)\n\ncols=['PostalCode', 'Borough','Neighborhood']\ndf = pd.DataFrame(columns=cols)\ndf.set_index('PostalCode')\n\nsoup = BeautifulSoup(r.text, 'lxml')\ntable = soup.find_all('table')[0]\n\nfor index, row in enumerate(table.find_all('tr'), start=0):\n        columns = row.find_all('td')\n        datax = list()\n        for col_index, column in enumerate(columns,start=0):\n                datax.append(column.get_text().strip())\n        \n        if len(datax) == 3:\n                if datax[1] != 'Not assigned':\n                    if datax[2] == 'Not assigned':\n                        datax[2] = datax[1]\n                    df = df.append({'PostalCode': datax[0],\n                  'Borough': datax[1],'Neighborhood': datax[2]}, ignore_index=True)\n        \ndf = df.groupby(['PostalCode','Borough'])['Neighborhood'].agg(lambda x: ','.join(x)).to_frame().reset_index()\n\n    \n", 
            "cell_type": "code", 
            "metadata": {}, 
            "outputs": [], 
            "execution_count": 35
        }, 
        {
            "source": "geodata = pd.read_csv(\"http://cocl.us/Geospatial_data\")\n\ngeodata.head()", 
            "cell_type": "code", 
            "metadata": {}, 
            "outputs": [
                {
                    "output_type": "execute_result", 
                    "data": {
                        "text/plain": "  Postal Code   Latitude  Longitude\n0         M1B  43.806686 -79.194353\n1         M1C  43.784535 -79.160497\n2         M1E  43.763573 -79.188711\n3         M1G  43.770992 -79.216917\n4         M1H  43.773136 -79.239476", 
                        "text/html": "<div>\n<style scoped>\n    .dataframe tbody tr th:only-of-type {\n        vertical-align: middle;\n    }\n\n    .dataframe tbody tr th {\n        vertical-align: top;\n    }\n\n    .dataframe thead th {\n        text-align: right;\n    }\n</style>\n<table border=\"1\" class=\"dataframe\">\n  <thead>\n    <tr style=\"text-align: right;\">\n      <th></th>\n      <th>Postal Code</th>\n      <th>Latitude</th>\n      <th>Longitude</th>\n    </tr>\n  </thead>\n  <tbody>\n    <tr>\n      <th>0</th>\n      <td>M1B</td>\n      <td>43.806686</td>\n      <td>-79.194353</td>\n    </tr>\n    <tr>\n      <th>1</th>\n      <td>M1C</td>\n      <td>43.784535</td>\n      <td>-79.160497</td>\n    </tr>\n    <tr>\n      <th>2</th>\n      <td>M1E</td>\n      <td>43.763573</td>\n      <td>-79.188711</td>\n    </tr>\n    <tr>\n      <th>3</th>\n      <td>M1G</td>\n      <td>43.770992</td>\n      <td>-79.216917</td>\n    </tr>\n    <tr>\n      <th>4</th>\n      <td>M1H</td>\n      <td>43.773136</td>\n      <td>-79.239476</td>\n    </tr>\n  </tbody>\n</table>\n</div>"
                    }, 
                    "execution_count": 36, 
                    "metadata": {}
                }
            ], 
            "execution_count": 36
        }, 
        {
            "source": "geodata.rename(columns={\"Postal Code\": \"PostalCode\"},inplace=True)", 
            "cell_type": "code", 
            "metadata": {}, 
            "outputs": [], 
            "execution_count": 37
        }, 
        {
            "source": "df['Latitude'] = 0\ndf['Longitude'] = 0", 
            "cell_type": "code", 
            "metadata": {}, 
            "outputs": [], 
            "execution_count": 38
        }, 
        {
            "source": "result = pd.merge(df, geodata, how=\"left\", on=[\"PostalCode\"])\nresult.head()", 
            "cell_type": "code", 
            "metadata": {}, 
            "outputs": [
                {
                    "output_type": "execute_result", 
                    "data": {
                        "text/plain": "  PostalCode      Borough                          Neighborhood  Latitude_x  \\\n0        M1B  Scarborough                         Rouge,Malvern           0   \n1        M1C  Scarborough  Highland Creek,Rouge Hill,Port Union           0   \n2        M1E  Scarborough       Guildwood,Morningside,West Hill           0   \n3        M1G  Scarborough                                Woburn           0   \n4        M1H  Scarborough                             Cedarbrae           0   \n\n   Longitude_x  Latitude_y  Longitude_y  \n0            0   43.806686   -79.194353  \n1            0   43.784535   -79.160497  \n2            0   43.763573   -79.188711  \n3            0   43.770992   -79.216917  \n4            0   43.773136   -79.239476  ", 
                        "text/html": "<div>\n<style scoped>\n    .dataframe tbody tr th:only-of-type {\n        vertical-align: middle;\n    }\n\n    .dataframe tbody tr th {\n        vertical-align: top;\n    }\n\n    .dataframe thead th {\n        text-align: right;\n    }\n</style>\n<table border=\"1\" class=\"dataframe\">\n  <thead>\n    <tr style=\"text-align: right;\">\n      <th></th>\n      <th>PostalCode</th>\n      <th>Borough</th>\n      <th>Neighborhood</th>\n      <th>Latitude_x</th>\n      <th>Longitude_x</th>\n      <th>Latitude_y</th>\n      <th>Longitude_y</th>\n    </tr>\n  </thead>\n  <tbody>\n    <tr>\n      <th>0</th>\n      <td>M1B</td>\n      <td>Scarborough</td>\n      <td>Rouge,Malvern</td>\n      <td>0</td>\n      <td>0</td>\n      <td>43.806686</td>\n      <td>-79.194353</td>\n    </tr>\n    <tr>\n      <th>1</th>\n      <td>M1C</td>\n      <td>Scarborough</td>\n      <td>Highland Creek,Rouge Hill,Port Union</td>\n      <td>0</td>\n      <td>0</td>\n      <td>43.784535</td>\n      <td>-79.160497</td>\n    </tr>\n    <tr>\n      <th>2</th>\n      <td>M1E</td>\n      <td>Scarborough</td>\n      <td>Guildwood,Morningside,West Hill</td>\n      <td>0</td>\n      <td>0</td>\n      <td>43.763573</td>\n      <td>-79.188711</td>\n    </tr>\n    <tr>\n      <th>3</th>\n      <td>M1G</td>\n      <td>Scarborough</td>\n      <td>Woburn</td>\n      <td>0</td>\n      <td>0</td>\n      <td>43.770992</td>\n      <td>-79.216917</td>\n    </tr>\n    <tr>\n      <th>4</th>\n      <td>M1H</td>\n      <td>Scarborough</td>\n      <td>Cedarbrae</td>\n      <td>0</td>\n      <td>0</td>\n      <td>43.773136</td>\n      <td>-79.239476</td>\n    </tr>\n  </tbody>\n</table>\n</div>"
                    }, 
                    "execution_count": 39, 
                    "metadata": {}
                }
            ], 
            "execution_count": 39
        }, 
        {
            "source": "result.drop(\"Latitude_x\",axis=1, inplace=True)\nresult.drop(\"Longitude_x\",axis=1, inplace=True)\nresult.rename(columns={\"Latitude_y\": \"Latitude\", \"Longitude_y\":\"Longitude\"},inplace=True)\nresult.head()\n\n", 
            "cell_type": "code", 
            "metadata": {}, 
            "outputs": [
                {
                    "output_type": "execute_result", 
                    "data": {
                        "text/plain": "  PostalCode      Borough                          Neighborhood   Latitude  \\\n0        M1B  Scarborough                         Rouge,Malvern  43.806686   \n1        M1C  Scarborough  Highland Creek,Rouge Hill,Port Union  43.784535   \n2        M1E  Scarborough       Guildwood,Morningside,West Hill  43.763573   \n3        M1G  Scarborough                                Woburn  43.770992   \n4        M1H  Scarborough                             Cedarbrae  43.773136   \n\n   Longitude  \n0 -79.194353  \n1 -79.160497  \n2 -79.188711  \n3 -79.216917  \n4 -79.239476  ", 
                        "text/html": "<div>\n<style scoped>\n    .dataframe tbody tr th:only-of-type {\n        vertical-align: middle;\n    }\n\n    .dataframe tbody tr th {\n        vertical-align: top;\n    }\n\n    .dataframe thead th {\n        text-align: right;\n    }\n</style>\n<table border=\"1\" class=\"dataframe\">\n  <thead>\n    <tr style=\"text-align: right;\">\n      <th></th>\n      <th>PostalCode</th>\n      <th>Borough</th>\n      <th>Neighborhood</th>\n      <th>Latitude</th>\n      <th>Longitude</th>\n    </tr>\n  </thead>\n  <tbody>\n    <tr>\n      <th>0</th>\n      <td>M1B</td>\n      <td>Scarborough</td>\n      <td>Rouge,Malvern</td>\n      <td>43.806686</td>\n      <td>-79.194353</td>\n    </tr>\n    <tr>\n      <th>1</th>\n      <td>M1C</td>\n      <td>Scarborough</td>\n      <td>Highland Creek,Rouge Hill,Port Union</td>\n      <td>43.784535</td>\n      <td>-79.160497</td>\n    </tr>\n    <tr>\n      <th>2</th>\n      <td>M1E</td>\n      <td>Scarborough</td>\n      <td>Guildwood,Morningside,West Hill</td>\n      <td>43.763573</td>\n      <td>-79.188711</td>\n    </tr>\n    <tr>\n      <th>3</th>\n      <td>M1G</td>\n      <td>Scarborough</td>\n      <td>Woburn</td>\n      <td>43.770992</td>\n      <td>-79.216917</td>\n    </tr>\n    <tr>\n      <th>4</th>\n      <td>M1H</td>\n      <td>Scarborough</td>\n      <td>Cedarbrae</td>\n      <td>43.773136</td>\n      <td>-79.239476</td>\n    </tr>\n  </tbody>\n</table>\n</div>"
                    }, 
                    "execution_count": 40, 
                    "metadata": {}
                }
            ], 
            "execution_count": 40
        }, 
        {
            "source": "", 
            "cell_type": "code", 
            "metadata": {}, 
            "outputs": [], 
            "execution_count": null
        }
    ], 
    "metadata": {
        "kernelspec": {
            "display_name": "Python 3.5", 
            "name": "python3", 
            "language": "python"
        }, 
        "language_info": {
            "mimetype": "text/x-python", 
            "nbconvert_exporter": "python", 
            "version": "3.5.5", 
            "name": "python", 
            "pygments_lexer": "ipython3", 
            "file_extension": ".py", 
            "codemirror_mode": {
                "version": 3, 
                "name": "ipython"
            }
        }
    }, 
    "nbformat": 4
}