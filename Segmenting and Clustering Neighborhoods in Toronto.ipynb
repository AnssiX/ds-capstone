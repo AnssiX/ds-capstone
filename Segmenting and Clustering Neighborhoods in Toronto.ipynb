{
    "nbformat_minor": 1, 
    "cells": [
        {
            "source": "Webscraping postal codes from Wikipedia and creating dataframe.\nI assume the first table in the Wikipedia page is the postal code table.", 
            "cell_type": "markdown", 
            "metadata": {}
        }, 
        {
            "source": "import pandas as pd\nimport requests\nfrom bs4 import BeautifulSoup\n\nurl = 'https://en.wikipedia.org/wiki/List_of_postal_codes_of_Canada:_M'\nr = requests.get(url)\n\ncols=['PostalCode', 'Borough','Neighborhood']\ndf = pd.DataFrame(columns=cols)\ndf.set_index('PostalCode')\n\nsoup = BeautifulSoup(r.text, 'lxml')\ntable = soup.find_all('table')[0]\n\nfor index, row in enumerate(table.find_all('tr'), start=0):\n        columns = row.find_all('td')\n        datax = list()\n        for col_index, column in enumerate(columns,start=0):\n                datax.append(column.get_text().strip())\n        \n        if len(datax) == 3:\n                if datax[1] != 'Not assigned':\n                    if datax[2] == 'Not assigned':\n                        datax[2] = datax[1]\n                    df = df.append({'PostalCode': datax[0],\n                  'Borough': datax[1],'Neighborhood': datax[2]}, ignore_index=True)\n        \ndf = df.groupby(['PostalCode','Borough'])['Neighborhood'].agg(lambda x: ','.join(x)).to_frame().reset_index()\n\ndf.shape\n\n    ", 
            "cell_type": "code", 
            "metadata": {}, 
            "outputs": [
                {
                    "output_type": "execute_result", 
                    "data": {
                        "text/plain": "(103, 3)"
                    }, 
                    "execution_count": 157, 
                    "metadata": {}
                }
            ], 
            "execution_count": 157
        }, 
        {
            "source": "", 
            "cell_type": "code", 
            "metadata": {}, 
            "outputs": [], 
            "execution_count": null
        }, 
        {
            "source": "", 
            "cell_type": "code", 
            "metadata": {}, 
            "outputs": [], 
            "execution_count": null
        }
    ], 
    "metadata": {
        "kernelspec": {
            "display_name": "Python 3.5", 
            "name": "python3", 
            "language": "python"
        }, 
        "language_info": {
            "mimetype": "text/x-python", 
            "nbconvert_exporter": "python", 
            "version": "3.5.5", 
            "name": "python", 
            "file_extension": ".py", 
            "pygments_lexer": "ipython3", 
            "codemirror_mode": {
                "version": 3, 
                "name": "ipython"
            }
        }
    }, 
    "nbformat": 4
}